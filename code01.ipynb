# To add a new cell, type '# %%'
# To add a new markdown cell, type '# %% [markdown]'
# %%
from IPython import get_ipython

# %%
import pandas as pd 
import numpy as np
import seaborn as sns

import matplotlib.pyplot as plt
import matplotlib.mlab as mlab
import matplotlib
plt.style.use('ggplot')
from matplotlib.pyplot import figure

get_ipython().run_line_magic('matplotlib', 'inline')
matplotlib.rcParams['figure.figsize'] = (12,8)

pd.options.mode.chained_assignment = None



# %%
df= pd.read_csv(r"C:\Users\acer\Dropbox\My PC (LAPTOP-5G3SCCNN)\Desktop\Portfolio Projects\movies.csv")


# %%
df


# %%
for col in df.columns:
    pct_missing= np.mean(df[col].isnull())
    print('{} - {}%'.format(col,round(pct_missing*100)))


# %%
df.drop_duplicates()


# %%
df.sort_values(by=['gross'],inplace=False,ascending=False)


# %%
sns.regplot(x='gross',y='budget',data=df)


# %%
sns.regplot(x='score',y='gross',data=df)


# %%
df.corr(method='pearson')


# %%
correlation_matrix=df.corr()
sns.heatmap(correlation_matrix,annot=True)
plt.title("correlation matrix for numeric feature")
plt.xlabel("movies feature")
plt.ylabel("movies feature")
plt.show()


# %%
df.apply(lambda x: x.factorize()[0]).corr(method='pearson')


# %%
correlation_matrix=df.apply(lambda x: x.factorize()[0]).corr(method='pearson')
sns.heatmap(correlation_matrix,annot=True)
plt.title("correlation matrix for movies")
plt.xlabel("movies feature")
plt.ylabel("movies feature")
plt.show()


# %%

correlation_mat = df.apply(lambda x: x.factorize()[0]).corr()

corr_pairs = correlation_mat.unstack()

print(corr_pairs)


# %%
companygross=df.groupby("company")[['gross']].sum()
companygrosssort=companygross.sort_values("gross",ascending=False)[:15]
companygrosssort=companygrosssort['gross'].astype('int64')
companygrosssort


# %%
df.groupby(['company','year'])[['gross']].sum()


# %%

CompanyGrossSum = df.groupby(['company', 'year'])[["gross"]].sum()

CompanyGrossSumSorted = CompanyGrossSum.sort_values(['gross','company','year'], ascending = False)[:15]

CompanyGrossSumSorted = CompanyGrossSumSorted['gross'].astype('int64') 

CompanyGrossSumSorted


# %%
plt.scatter(x=df['budget'], y=df['gross'], alpha=0.5)
plt.title('Budget vs Gross Earnings')
plt.xlabel('Gross Earnings')
plt.ylabel('Budget for Film')
plt.show()


# %%
sns.stripplot(x="rating", y="gross", data=df)


